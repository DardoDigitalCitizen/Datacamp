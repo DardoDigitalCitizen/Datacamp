{
 "cells": [
  {
   "cell_type": "markdown",
   "metadata": {
    "id": "MO9NdTLv8yEP"
   },
   "source": [
    "#**Loops**\n",
    "\n",
    "There are several techniques you can use to repeatedly execute Python code. While loops are like repeated if statements, the for loop iterates over all kinds of data structures. Learn all about them in this chapter.\n"
   ]
  },
  {
   "cell_type": "markdown",
   "metadata": {
    "id": "7TWkV0Zr9F8d"
   },
   "source": [
    "##**1. While loop**"
   ]
  },
  {
   "cell_type": "markdown",
   "metadata": {
    "id": "79wVFVYV9VB5"
   },
   "source": [
    "### **1.2. if-elif-else**\n",
    "\n",
    "  control.py\n",
    "\n",
    "* Goes through construct only once!"
   ]
  },
  {
   "cell_type": "code",
   "execution_count": null,
   "metadata": {
    "colab": {
     "base_uri": "https://localhost:8080/",
     "height": 34
    },
    "executionInfo": {
     "elapsed": 1284,
     "status": "ok",
     "timestamp": 1603242529584,
     "user": {
      "displayName": "Edu Freitas",
      "photoUrl": "https://lh3.googleusercontent.com/a-/AOh14GhWFQkwez3VBN_ew1fJcqiFBGJEY7eSIinKE6OAhw=s64",
      "userId": "00586546017962173484"
     },
     "user_tz": 180
    },
    "id": "FO8POOGZspk3",
    "outputId": "0d935b18-33d7-444f-bd0a-1c850ec91c00"
   },
   "outputs": [
    {
     "name": "stdout",
     "output_type": "stream",
     "text": [
      "z is divisible by 2\n"
     ]
    }
   ],
   "source": [
    "z = 6\n",
    "if z % 2 == 0 : # True\n",
    "  print(\"z is divisible by 2\") # Executed\n",
    "elif z % 3 == 0 :\n",
    "  print(\"z is divisible by 3\")\n",
    "else :\n",
    "  print(\"z is neither divisible by 2 nor by 3\")\n",
    "# Moving on"
   ]
  },
  {
   "cell_type": "markdown",
   "metadata": {
    "id": "S9QFHxJ6sxHP"
   },
   "source": [
    "* While loop = execute this code over and over again as long as the condition is true"
   ]
  },
  {
   "cell_type": "markdown",
   "metadata": {
    "id": "f4mMPykFszbo"
   },
   "source": [
    "### **1.3. While**\n",
    "\n",
    "    while condition :\n",
    "        expression\n",
    "  **while_loop.py**\n",
    "* Numerically calculatin model\n",
    "* \"repeating action until condition is met\"\n",
    "* Example\n",
    "  * Error starts at 50\n",
    "  * Divide error by 4 on every run\n",
    "  * Continue until error no longer > 1"
   ]
  },
  {
   "cell_type": "code",
   "execution_count": null,
   "metadata": {
    "colab": {
     "base_uri": "https://localhost:8080/",
     "height": 68
    },
    "executionInfo": {
     "elapsed": 804,
     "status": "ok",
     "timestamp": 1603242697567,
     "user": {
      "displayName": "Edu Freitas",
      "photoUrl": "https://lh3.googleusercontent.com/a-/AOh14GhWFQkwez3VBN_ew1fJcqiFBGJEY7eSIinKE6OAhw=s64",
      "userId": "00586546017962173484"
     },
     "user_tz": 180
    },
    "id": "rw9M7rA-tWGe",
    "outputId": "edc5245d-b9ff-46dc-b732-887ff7d2305c"
   },
   "outputs": [
    {
     "name": "stdout",
     "output_type": "stream",
     "text": [
      "12.5\n",
      "3.125\n",
      "0.78125\n"
     ]
    }
   ],
   "source": [
    "error = 50.0\n",
    "while error > 1: # As longe as the number is bigger than 1...\n",
    "  error = error / 4 # The while loop will run that calculation over and over \n",
    "  print(error) # until is smaller than one (0.78125)"
   ]
  },
  {
   "cell_type": "markdown",
   "metadata": {
    "id": "ZryvlWHLtgvT"
   },
   "source": [
    "### **1.4. Let's practice**"
   ]
  },
  {
   "cell_type": "markdown",
   "metadata": {
    "id": "_X1Sv60JvFkE"
   },
   "source": [
    "#### **1.4.1. while: waring up**\n",
    "The while loop is like a repeated if statement. The code is executed over and over again, as long as the condition is **True**. Have another look at its recipe.\n",
    "\n",
    "    while condition :\n",
    "        expression"
   ]
  },
  {
   "cell_type": "code",
   "execution_count": null,
   "metadata": {
    "colab": {
     "base_uri": "https://localhost:8080/",
     "height": 68
    },
    "executionInfo": {
     "elapsed": 640,
     "status": "ok",
     "timestamp": 1603243187762,
     "user": {
      "displayName": "Edu Freitas",
      "photoUrl": "https://lh3.googleusercontent.com/a-/AOh14GhWFQkwez3VBN_ew1fJcqiFBGJEY7eSIinKE6OAhw=s64",
      "userId": "00586546017962173484"
     },
     "user_tz": 180
    },
    "id": "91jmAu0tvXeX",
    "outputId": "8dc07019-4a77-4631-abe9-a443f23e0254"
   },
   "outputs": [
    {
     "name": "stdout",
     "output_type": "stream",
     "text": [
      "1\n",
      "2\n",
      "3\n"
     ]
    }
   ],
   "source": [
    "x = 1\n",
    "while x < 4 :\n",
    "    print(x)\n",
    "    x = x + 1\n",
    "# Can you tell how many printouts the following while loop will do?"
   ]
  },
  {
   "cell_type": "markdown",
   "metadata": {
    "id": "n1KFGS-4vZtq"
   },
   "source": [
    "#### **1.4.2. Basic while loop**\n",
    "Below you can find the example from the video where the error variable, initially equal to 50.0, is divided by 4 and printed out on every run:\n",
    "\n",
    "    error = 50.0\n",
    "    while error > 1 :\n",
    "        error = error / 4\n",
    "        print(error)\n",
    "\n",
    "\n",
    "This example will come in handy, because it's time to build a while loop yourself! We're going to code a while loop that implements a very basic control system for an inverted pendulum. If there's an offset from standing perfectly straight, the while loop will incrementally fix this offset.\n",
    "\n",
    "Note that if your while loop takes too long to run, you might have made a mistake. In particular, remember to indent the contents of the loop!"
   ]
  },
  {
   "cell_type": "code",
   "execution_count": null,
   "metadata": {
    "id": "K7fOlkSAv6QW"
   },
   "outputs": [],
   "source": [
    "# Create the variable offset with an initial value of 8.\n",
    "offset = 8"
   ]
  },
  {
   "cell_type": "code",
   "execution_count": null,
   "metadata": {
    "colab": {
     "base_uri": "https://localhost:8080/",
     "height": 289
    },
    "executionInfo": {
     "elapsed": 697,
     "status": "ok",
     "timestamp": 1603243492729,
     "user": {
      "displayName": "Edu Freitas",
      "photoUrl": "https://lh3.googleusercontent.com/a-/AOh14GhWFQkwez3VBN_ew1fJcqiFBGJEY7eSIinKE6OAhw=s64",
      "userId": "00586546017962173484"
     },
     "user_tz": 180
    },
    "id": "Y4gpPGGWwCQi",
    "outputId": "a59374a5-f30d-482c-cde8-a12d9fb9cf7e"
   },
   "outputs": [
    {
     "name": "stdout",
     "output_type": "stream",
     "text": [
      "correcting...\n",
      "7\n",
      "correcting...\n",
      "6\n",
      "correcting...\n",
      "5\n",
      "correcting...\n",
      "4\n",
      "correcting...\n",
      "3\n",
      "correcting...\n",
      "2\n",
      "correcting...\n",
      "1\n",
      "correcting...\n",
      "0\n"
     ]
    }
   ],
   "source": [
    "# Code a while loop that keeps running as long as offset is not equal to 0. \n",
    "# Inside the while loop:\n",
    "while offset != 0 :\n",
    "# Print out the sentence \"correcting...\".\n",
    "  print(\"correcting...\")\n",
    "# Next, decrease the value of offset by 1. You can do this with offset = offset - 1.\n",
    "  offset = offset - 1\n",
    "# Finally, still within your loop, print out offset so you can see how it changes.\n",
    "  print(offset)"
   ]
  },
  {
   "cell_type": "markdown",
   "metadata": {
    "id": "gmuHxG9WwGun"
   },
   "source": [
    "#### **1.4.3. Add conditionals**\n",
    "The while loop that corrects the offset is a good start, but what if offset is negative? You can try to run the following code where offset is initialized to -6:\n",
    "\n",
    "    #Initialize offset\n",
    "    offset = -6\n",
    "\n",
    "    #Code the while loop\n",
    "    while offset != 0 :\n",
    "        print(\"correcting...\")\n",
    "        offset = offset - 1\n",
    "        print(offset)\n",
    "        \n",
    "but your session will be disconnected. The while loop will never stop running, because offset will be further decreased on every run. offset != 0 will never become False and the while loop continues forever.\n",
    "\n",
    "Fix things by putting an if-else statement inside the while loop. If your code is still taking too long to run, you probably made a mistake!"
   ]
  },
  {
   "cell_type": "code",
   "execution_count": null,
   "metadata": {
    "colab": {
     "base_uri": "https://localhost:8080/",
     "height": 221
    },
    "executionInfo": {
     "elapsed": 844,
     "status": "ok",
     "timestamp": 1603243761815,
     "user": {
      "displayName": "Edu Freitas",
      "photoUrl": "https://lh3.googleusercontent.com/a-/AOh14GhWFQkwez3VBN_ew1fJcqiFBGJEY7eSIinKE6OAhw=s64",
      "userId": "00586546017962173484"
     },
     "user_tz": 180
    },
    "id": "t4EX-6lyxAs_",
    "outputId": "f52279cc-8458-413d-a7c9-b2b0684bf7dc"
   },
   "outputs": [
    {
     "name": "stdout",
     "output_type": "stream",
     "text": [
      "correcting...\n",
      "-5\n",
      "correcting...\n",
      "-4\n",
      "correcting...\n",
      "-3\n",
      "correcting...\n",
      "-2\n",
      "correcting...\n",
      "-1\n",
      "correcting...\n",
      "0\n"
     ]
    }
   ],
   "source": [
    "# Inside the while loop, complete the if-else statement:\n",
    "# If offset is greater than zero, you should decrease offset by 1.\n",
    "\n",
    "offset = -6\n",
    "\n",
    "while offset != 0 :\n",
    "  print(\"correcting...\")\n",
    "  if offset > 0:\n",
    "    offset = offset - 1\n",
    "  else:\n",
    "    offset = offset + 1\n",
    "    print(offset)"
   ]
  },
  {
   "cell_type": "markdown",
   "metadata": {
    "id": "a0oHeU2SxLUq"
   },
   "source": [
    "## **2. for loop**\n",
    "\n",
    "    for var in seq :\n",
    "      expression\n",
    "* \"for each var in seq, execute expression\""
   ]
  },
  {
   "cell_type": "markdown",
   "metadata": {
    "id": "c8-GcSYzyESS"
   },
   "source": [
    "### **2.1. fam**\n",
    "\n",
    "family.py"
   ]
  },
  {
   "cell_type": "code",
   "execution_count": null,
   "metadata": {
    "colab": {
     "base_uri": "https://localhost:8080/",
     "height": 34
    },
    "executionInfo": {
     "elapsed": 635,
     "status": "ok",
     "timestamp": 1603243919587,
     "user": {
      "displayName": "Edu Freitas",
      "photoUrl": "https://lh3.googleusercontent.com/a-/AOh14GhWFQkwez3VBN_ew1fJcqiFBGJEY7eSIinKE6OAhw=s64",
      "userId": "00586546017962173484"
     },
     "user_tz": 180
    },
    "id": "BwFFXp9NyKN1",
    "outputId": "694dc693-330b-4e34-ae82-5fd6bbbc2e4b"
   },
   "outputs": [
    {
     "name": "stdout",
     "output_type": "stream",
     "text": [
      "[1.73, 1.68, 1.71, 1.89]\n"
     ]
    }
   ],
   "source": [
    "fam = [1.73, 1.68, 1.71, 1.89]\n",
    "print(fam)"
   ]
  },
  {
   "cell_type": "code",
   "execution_count": null,
   "metadata": {
    "colab": {
     "base_uri": "https://localhost:8080/",
     "height": 85
    },
    "executionInfo": {
     "elapsed": 781,
     "status": "ok",
     "timestamp": 1603243932699,
     "user": {
      "displayName": "Edu Freitas",
      "photoUrl": "https://lh3.googleusercontent.com/a-/AOh14GhWFQkwez3VBN_ew1fJcqiFBGJEY7eSIinKE6OAhw=s64",
      "userId": "00586546017962173484"
     },
     "user_tz": 180
    },
    "id": "eoBqEOuGyMYR",
    "outputId": "4702131a-a631-43fd-fda6-b9b65fc2be98"
   },
   "outputs": [
    {
     "name": "stdout",
     "output_type": "stream",
     "text": [
      "1.73\n",
      "1.68\n",
      "1.71\n",
      "1.89\n"
     ]
    }
   ],
   "source": [
    "print(fam[0])\n",
    "print(fam[1])\n",
    "print(fam[2])\n",
    "print(fam[3])"
   ]
  },
  {
   "cell_type": "markdown",
   "metadata": {
    "id": "A53ySGzSyPiv"
   },
   "source": [
    "### **2.2. for loop**\n",
    "    for var in seq :\n",
    "        expression\n",
    "\n",
    "family.py"
   ]
  },
  {
   "cell_type": "code",
   "execution_count": null,
   "metadata": {
    "colab": {
     "base_uri": "https://localhost:8080/",
     "height": 85
    },
    "executionInfo": {
     "elapsed": 617,
     "status": "ok",
     "timestamp": 1603244010167,
     "user": {
      "displayName": "Edu Freitas",
      "photoUrl": "https://lh3.googleusercontent.com/a-/AOh14GhWFQkwez3VBN_ew1fJcqiFBGJEY7eSIinKE6OAhw=s64",
      "userId": "00586546017962173484"
     },
     "user_tz": 180
    },
    "id": "hk9oC3KvyckK",
    "outputId": "e0d291e8-4930-4f52-aede-71e545adaddb"
   },
   "outputs": [
    {
     "name": "stdout",
     "output_type": "stream",
     "text": [
      "1.73\n",
      "1.68\n",
      "1.71\n",
      "1.89\n"
     ]
    }
   ],
   "source": [
    "fam = [1.73, 1.68, 1.71, 1.89]\n",
    "for height in fam :\n",
    "  print(height)"
   ]
  },
  {
   "cell_type": "markdown",
   "metadata": {
    "id": "LITjSTbMyigO"
   },
   "source": [
    "* No access to indexes"
   ]
  },
  {
   "cell_type": "markdown",
   "metadata": {
    "id": "JAOKyM4c3G8V"
   },
   "source": [
    "### **2.3. enumerate**"
   ]
  },
  {
   "cell_type": "code",
   "execution_count": null,
   "metadata": {
    "colab": {
     "base_uri": "https://localhost:8080/",
     "height": 85
    },
    "executionInfo": {
     "elapsed": 630,
     "status": "ok",
     "timestamp": 1603244094425,
     "user": {
      "displayName": "Edu Freitas",
      "photoUrl": "https://lh3.googleusercontent.com/a-/AOh14GhWFQkwez3VBN_ew1fJcqiFBGJEY7eSIinKE6OAhw=s64",
      "userId": "00586546017962173484"
     },
     "user_tz": 180
    },
    "id": "3_qrnrkUyq92",
    "outputId": "9b29d679-8a75-4842-eb50-07d26850ff24"
   },
   "outputs": [
    {
     "name": "stdout",
     "output_type": "stream",
     "text": [
      "index 0: 1.73\n",
      "index 1: 1.68\n",
      "index 2: 1.71\n",
      "index 3: 1.89\n"
     ]
    }
   ],
   "source": [
    "fam = [1.73, 1.68, 1.71, 1.89]\n",
    "for index, height in enumerate(fam) : #Now, enumerate() produces two values on each iteration: the index of the value, and the value itself.\n",
    "  print(\"index \" + str(index) + \": \" + str(height))"
   ]
  },
  {
   "cell_type": "markdown",
   "metadata": {
    "id": "nKrHuhMiy3EF"
   },
   "source": [
    "### **2.4. Loop over string**\n",
    "\n",
    "    for var in seq:\n",
    "        expression\n",
    "\n",
    "srtloop.py"
   ]
  },
  {
   "cell_type": "code",
   "execution_count": null,
   "metadata": {
    "colab": {
     "base_uri": "https://localhost:8080/",
     "height": 119
    },
    "executionInfo": {
     "elapsed": 633,
     "status": "ok",
     "timestamp": 1603244149296,
     "user": {
      "displayName": "Edu Freitas",
      "photoUrl": "https://lh3.googleusercontent.com/a-/AOh14GhWFQkwez3VBN_ew1fJcqiFBGJEY7eSIinKE6OAhw=s64",
      "userId": "00586546017962173484"
     },
     "user_tz": 180
    },
    "id": "p4PQB5qnzBMk",
    "outputId": "895c3236-e15c-4cf8-c4da-89db3c7ef15f"
   },
   "outputs": [
    {
     "name": "stdout",
     "output_type": "stream",
     "text": [
      "F\n",
      "A\n",
      "M\n",
      "I\n",
      "L\n",
      "Y\n"
     ]
    }
   ],
   "source": [
    "for c in \"family\" :\n",
    "  print(c.capitalize())"
   ]
  },
  {
   "cell_type": "markdown",
   "metadata": {
    "id": "oRCyjd-czEd0"
   },
   "source": [
    "### **2.5. Lets practice**"
   ]
  },
  {
   "cell_type": "markdown",
   "metadata": {
    "id": "J_qZPY5q0ze4"
   },
   "source": [
    "#### **2.5.1. Loop over a list**\n",
    "\n",
    "Have another look at the for loop that Hugo showed in the video:\n",
    "\n",
    "    fam = [1.73, 1.68, 1.71, 1.89]\n",
    "    for height in fam : \n",
    "        print(height)\n",
    "As usual, you simply have to indent the code with 4 spaces to tell Python which code should be executed in the for loop.\n",
    "\n",
    "The areas variable, containing the area of different rooms in your house, is already defined."
   ]
  },
  {
   "cell_type": "code",
   "execution_count": null,
   "metadata": {
    "id": "ambYUH6M1Cki"
   },
   "outputs": [],
   "source": [
    "# areas list\n",
    "areas = [11.25, 18.0, 20.0, 10.75, 9.50]"
   ]
  },
  {
   "cell_type": "code",
   "execution_count": null,
   "metadata": {
    "colab": {
     "base_uri": "https://localhost:8080/",
     "height": 102
    },
    "executionInfo": {
     "elapsed": 639,
     "status": "ok",
     "timestamp": 1603244721990,
     "user": {
      "displayName": "Edu Freitas",
      "photoUrl": "https://lh3.googleusercontent.com/a-/AOh14GhWFQkwez3VBN_ew1fJcqiFBGJEY7eSIinKE6OAhw=s64",
      "userId": "00586546017962173484"
     },
     "user_tz": 180
    },
    "id": "uC9mK_1J1EB-",
    "outputId": "c7c66bd0-8222-4906-cabf-779922b2363a"
   },
   "outputs": [
    {
     "name": "stdout",
     "output_type": "stream",
     "text": [
      "11.25\n",
      "18.0\n",
      "20.0\n",
      "10.75\n",
      "9.5\n"
     ]
    }
   ],
   "source": [
    "# Write a for loop that iterates over all elements of the areas list and prints out every element separately.\n",
    "for area in areas:\n",
    "  print(area)"
   ]
  },
  {
   "cell_type": "markdown",
   "metadata": {
    "id": "Ahux6KTX1Mhq"
   },
   "source": [
    "#### **2.5.2. Indexes and values (1)**\n",
    "Using a for loop to iterate over a list only gives you access to every list element in each run, one after the other. If you also want to access the index information, so where the list element you're iterating over is located, you can use enumerate().\n",
    "\n",
    "As an example, have a look at how the for loop from the video was converted:\n",
    "\n",
    "    fam = [1.73, 1.68, 1.71, 1.89]\n",
    "    for index, height in enumerate(fam) :\n",
    "        print(\"person \" + str(index) + \": \" + str(height))"
   ]
  },
  {
   "cell_type": "code",
   "execution_count": null,
   "metadata": {
    "id": "z9ckyuPr1iJh"
   },
   "outputs": [],
   "source": [
    "# areas list\n",
    "areas = [11.25, 18.0, 20.0, 10.75, 9.50]"
   ]
  },
  {
   "cell_type": "code",
   "execution_count": null,
   "metadata": {
    "colab": {
     "base_uri": "https://localhost:8080/",
     "height": 102
    },
    "executionInfo": {
     "elapsed": 765,
     "status": "ok",
     "timestamp": 1603244878080,
     "user": {
      "displayName": "Edu Freitas",
      "photoUrl": "https://lh3.googleusercontent.com/a-/AOh14GhWFQkwez3VBN_ew1fJcqiFBGJEY7eSIinKE6OAhw=s64",
      "userId": "00586546017962173484"
     },
     "user_tz": 180
    },
    "id": "yQkk-nCD1mvX",
    "outputId": "c7a2e0b3-2d4d-40fb-c501-7be62b947f4e"
   },
   "outputs": [
    {
     "name": "stdout",
     "output_type": "stream",
     "text": [
      "room 0: 11.25\n",
      "room 1: 18.0\n",
      "room 2: 20.0\n",
      "room 3: 10.75\n",
      "room 4: 9.5\n"
     ]
    }
   ],
   "source": [
    "# Adapt the for loop in the sample code to use enumerate() and use two iterator variables\n",
    "\n",
    "for index, area in enumerate(areas) :\n",
    "  print(\"room \" + str(index) + \": \" + str(area))"
   ]
  },
  {
   "cell_type": "markdown",
   "metadata": {
    "id": "rO9Yx1Xh12XC"
   },
   "source": [
    "#### **2.5.3. Indexes and values (2)**\n",
    "\n",
    "For non-programmer folks, room 0: 11.25 is strange. Wouldn't it be better if the count started at 1?"
   ]
  },
  {
   "cell_type": "code",
   "execution_count": null,
   "metadata": {
    "colab": {
     "base_uri": "https://localhost:8080/",
     "height": 102
    },
    "executionInfo": {
     "elapsed": 651,
     "status": "ok",
     "timestamp": 1603244993657,
     "user": {
      "displayName": "Edu Freitas",
      "photoUrl": "https://lh3.googleusercontent.com/a-/AOh14GhWFQkwez3VBN_ew1fJcqiFBGJEY7eSIinKE6OAhw=s64",
      "userId": "00586546017962173484"
     },
     "user_tz": 180
    },
    "id": "InQ6UEOm2Ibo",
    "outputId": "6cd41853-66c9-435c-d86e-484d1215aa8e"
   },
   "outputs": [
    {
     "name": "stdout",
     "output_type": "stream",
     "text": [
      "room 1: 11.25\n",
      "room 2: 18.0\n",
      "room 3: 20.0\n",
      "room 4: 10.75\n",
      "room 5: 9.5\n"
     ]
    }
   ],
   "source": [
    "# Adapt the print() function in the for loop on the right so that the first \n",
    "# printout becomes \"room 1: 11.25\", the second one \"room 2: 18.0\" and so on.\n",
    "for index, area in enumerate(areas) :\n",
    "  print(\"room \" + str(index + 1) + \": \" + str(area))"
   ]
  },
  {
   "cell_type": "markdown",
   "metadata": {
    "id": "hn-69gM52Smi"
   },
   "source": [
    "#### **2.5.4. Loop over list of lists**\n",
    "Remember the house variable from the Intro to Python course? Have a look at its definition on the right. It's basically a list of lists, where each sublist contains the name and area of a room in your house.\n",
    "\n",
    "It's up to you to build a for loop from scratch this time!"
   ]
  },
  {
   "cell_type": "code",
   "execution_count": null,
   "metadata": {
    "id": "N8DBnEHB2cWC"
   },
   "outputs": [],
   "source": [
    "# house list of lists\n",
    "house = [[\"hallway\", 11.25], \n",
    "         [\"kitchen\", 18.0], \n",
    "         [\"living room\", 20.0], \n",
    "         [\"bedroom\", 10.75], \n",
    "         [\"bathroom\", 9.50]]"
   ]
  },
  {
   "cell_type": "code",
   "execution_count": null,
   "metadata": {
    "colab": {
     "base_uri": "https://localhost:8080/",
     "height": 102
    },
    "executionInfo": {
     "elapsed": 637,
     "status": "ok",
     "timestamp": 1603245132272,
     "user": {
      "displayName": "Edu Freitas",
      "photoUrl": "https://lh3.googleusercontent.com/a-/AOh14GhWFQkwez3VBN_ew1fJcqiFBGJEY7eSIinKE6OAhw=s64",
      "userId": "00586546017962173484"
     },
     "user_tz": 180
    },
    "id": "7knC3Czf2dXK",
    "outputId": "4ad74321-402b-4a6b-b07a-a3ea076084c7"
   },
   "outputs": [
    {
     "name": "stdout",
     "output_type": "stream",
     "text": [
      "the hallway is 11.25 sqm\n",
      "the kitchen is 18.0 sqm\n",
      "the living room is 20.0 sqm\n",
      "the bedroom is 10.75 sqm\n",
      "the bathroom is 9.5 sqm\n"
     ]
    }
   ],
   "source": [
    "# Write a for loop that goes through each sublist of house and prints out the \n",
    "# x is y sqm, where x is the name of the room and y is the area of the room.\n",
    "for room, area in house :\n",
    "  print(\"the \" + str(room) + \" is \" + str(area) + \" sqm\")"
   ]
  },
  {
   "cell_type": "markdown",
   "metadata": {
    "id": "QksF8Pxh2y5y"
   },
   "source": [
    "## **3. Loop Data Structures - Part 1**"
   ]
  },
  {
   "cell_type": "markdown",
   "metadata": {
    "id": "hOpBS04B3egJ"
   },
   "source": [
    "### **3.1 Dictionary**\n",
    "\n",
    "    for var in seq :\n",
    "        expression\n",
    "\n",
    "dictloop.py"
   ]
  },
  {
   "cell_type": "code",
   "execution_count": null,
   "metadata": {
    "id": "SqON3NwR3v2z"
   },
   "outputs": [],
   "source": [
    "world = { \"afghanistan\":30.55,\n",
    "          \"albania\":2.77,\n",
    "          \"algeria\":39.21 }\n",
    "for key, value in world :\n",
    "  print(key + \" -- \" + str(value)) # ValueError: too many values to unpack (expected 2)"
   ]
  },
  {
   "cell_type": "code",
   "execution_count": null,
   "metadata": {
    "colab": {
     "base_uri": "https://localhost:8080/",
     "height": 68
    },
    "executionInfo": {
     "elapsed": 714,
     "status": "ok",
     "timestamp": 1603245460518,
     "user": {
      "displayName": "Edu Freitas",
      "photoUrl": "https://lh3.googleusercontent.com/a-/AOh14GhWFQkwez3VBN_ew1fJcqiFBGJEY7eSIinKE6OAhw=s64",
      "userId": "00586546017962173484"
     },
     "user_tz": 180
    },
    "id": "4WoRjqHZ33-y",
    "outputId": "7ab84510-7099-4383-e5de-704d856fec1c"
   },
   "outputs": [
    {
     "name": "stdout",
     "output_type": "stream",
     "text": [
      "afghanistan -- 30.55\n",
      "albania -- 2.77\n",
      "algeria -- 39.21\n"
     ]
    }
   ],
   "source": [
    "world = { \"afghanistan\":30.55,\n",
    "          \"albania\":2.77,\n",
    "          \"algeria\":39.21 }\n",
    "for key, value in world.items() :\n",
    "    print(key + \" -- \" + str(value))"
   ]
  },
  {
   "cell_type": "code",
   "execution_count": null,
   "metadata": {
    "colab": {
     "base_uri": "https://localhost:8080/",
     "height": 68
    },
    "executionInfo": {
     "elapsed": 589,
     "status": "ok",
     "timestamp": 1603245505725,
     "user": {
      "displayName": "Edu Freitas",
      "photoUrl": "https://lh3.googleusercontent.com/a-/AOh14GhWFQkwez3VBN_ew1fJcqiFBGJEY7eSIinKE6OAhw=s64",
      "userId": "00586546017962173484"
     },
     "user_tz": 180
    },
    "id": "fLbsd34r4EkD",
    "outputId": "a7046d72-df33-4c25-9df0-7c464b735ce9"
   },
   "outputs": [
    {
     "name": "stdout",
     "output_type": "stream",
     "text": [
      "afghanistan -- 30.55\n",
      "albania -- 2.77\n",
      "algeria -- 39.21\n"
     ]
    }
   ],
   "source": [
    "world = { \"afghanistan\":30.55,\n",
    "          \"albania\":2.77,\n",
    "          \"algeria\":39.21 }\n",
    "for k, v in world.items() :\n",
    "  print(k + \" -- \" + str(v))"
   ]
  },
  {
   "cell_type": "markdown",
   "metadata": {
    "id": "vVFI41ZL4PoJ"
   },
   "source": [
    "### **3.2. Numpy arrays**\n",
    "\n",
    "    for var in seq :\n",
    "        expression\n",
    "\n",
    "nploop.py"
   ]
  },
  {
   "cell_type": "code",
   "execution_count": null,
   "metadata": {
    "colab": {
     "base_uri": "https://localhost:8080/",
     "height": 102
    },
    "executionInfo": {
     "elapsed": 597,
     "status": "ok",
     "timestamp": 1603245590854,
     "user": {
      "displayName": "Edu Freitas",
      "photoUrl": "https://lh3.googleusercontent.com/a-/AOh14GhWFQkwez3VBN_ew1fJcqiFBGJEY7eSIinKE6OAhw=s64",
      "userId": "00586546017962173484"
     },
     "user_tz": 180
    },
    "id": "MeKiQZ-i4aSP",
    "outputId": "d1a32927-cee4-4860-9e90-a4ab09c8e5be"
   },
   "outputs": [
    {
     "name": "stdout",
     "output_type": "stream",
     "text": [
      "21.85171572722109\n",
      "20.97505668934241\n",
      "21.750282138093777\n",
      "24.74734749867025\n",
      "21.44127836209856\n"
     ]
    }
   ],
   "source": [
    "import numpy as np\n",
    "np_height = np.array([1.73, 1.68, 1.71, 1.89, 1.79])\n",
    "np_weight = np.array([65.4, 59.2, 63.6, 88.4, 68.7])\n",
    "bmi = np_weight / np_height ** 2\n",
    "for val in bmi :\n",
    "  print(val)"
   ]
  },
  {
   "cell_type": "markdown",
   "metadata": {
    "id": "D_zI_bhL4kaj"
   },
   "source": [
    "### **3.3. 2D Numpy Arrays**\n",
    "\n",
    "nploop.py"
   ]
  },
  {
   "cell_type": "code",
   "execution_count": null,
   "metadata": {
    "colab": {
     "base_uri": "https://localhost:8080/",
     "height": 51
    },
    "executionInfo": {
     "elapsed": 633,
     "status": "ok",
     "timestamp": 1603245682825,
     "user": {
      "displayName": "Edu Freitas",
      "photoUrl": "https://lh3.googleusercontent.com/a-/AOh14GhWFQkwez3VBN_ew1fJcqiFBGJEY7eSIinKE6OAhw=s64",
      "userId": "00586546017962173484"
     },
     "user_tz": 180
    },
    "id": "fgfEZsWa4y2K",
    "outputId": "dc351a54-b49c-4c58-90fa-456ab172b68f"
   },
   "outputs": [
    {
     "name": "stdout",
     "output_type": "stream",
     "text": [
      "[1.73 1.68 1.71 1.89 1.79]\n",
      "[65.4 59.2 63.6 88.4 68.7]\n"
     ]
    }
   ],
   "source": [
    "import numpy as np\n",
    "np_height = np.array([1.73, 1.68, 1.71, 1.89, 1.79])\n",
    "np_weight = np.array([65.4, 59.2, 63.6, 88.4, 68.7])\n",
    "meas = np.array([np_height, np_weight])\n",
    "for val in meas :\n",
    "  print(val)"
   ]
  },
  {
   "cell_type": "code",
   "execution_count": null,
   "metadata": {
    "colab": {
     "base_uri": "https://localhost:8080/",
     "height": 187
    },
    "executionInfo": {
     "elapsed": 575,
     "status": "ok",
     "timestamp": 1603245738877,
     "user": {
      "displayName": "Edu Freitas",
      "photoUrl": "https://lh3.googleusercontent.com/a-/AOh14GhWFQkwez3VBN_ew1fJcqiFBGJEY7eSIinKE6OAhw=s64",
      "userId": "00586546017962173484"
     },
     "user_tz": 180
    },
    "id": "nZ2Yo7pW463I",
    "outputId": "2bd681e0-f074-4a46-d257-bb1e7f33de84"
   },
   "outputs": [
    {
     "name": "stdout",
     "output_type": "stream",
     "text": [
      "1.73\n",
      "1.68\n",
      "1.71\n",
      "1.89\n",
      "1.79\n",
      "65.4\n",
      "59.2\n",
      "63.6\n",
      "88.4\n",
      "68.7\n"
     ]
    }
   ],
   "source": [
    "for val in np.nditer(meas) :\n",
    "  print(val)"
   ]
  },
  {
   "cell_type": "markdown",
   "metadata": {
    "id": "T-TMOP7B5Ijb"
   },
   "source": [
    "### **3.4. Recap**\n",
    "\n",
    "* Dictionary\n",
    "      for key, val in my dict.items() : # A method\n",
    "\n",
    "* Numpy array\n",
    "      for val in np.nditer(my_array) : # A function"
   ]
  },
  {
   "cell_type": "markdown",
   "metadata": {
    "id": "ES3hBxQW5k2b"
   },
   "source": [
    "### **3.5. Let's practice**"
   ]
  },
  {
   "cell_type": "markdown",
   "metadata": {
    "id": "2nrFMpKa6alf"
   },
   "source": [
    "#### **3.5.1. Loop over dictionary**\n",
    "\n",
    "In Python 3, you need the items() method to loop over a dictionary:\n",
    "\n",
    "    world = { \"afghanistan\":30.55, \n",
    "              \"albania\":2.77,\n",
    "              \"algeria\":39.21 }\n",
    "\n",
    "    for key, value in world.items() :\n",
    "        print(key + \" -- \" + str(value))\n",
    "        \n",
    "Remember the europe dictionary that contained the names of some European countries as key and their capitals as corresponding value? Go ahead and write a loop to iterate over it!"
   ]
  },
  {
   "cell_type": "code",
   "execution_count": null,
   "metadata": {
    "id": "VqkxYbkX6rhH"
   },
   "outputs": [],
   "source": [
    "# Definition of dictionary\n",
    "europe = {'spain':'madrid', 'france':'paris', 'germany':'berlin',\n",
    "          'norway':'oslo', 'italy':'rome', 'poland':'warsaw', 'austria':'vienna' }"
   ]
  },
  {
   "cell_type": "code",
   "execution_count": null,
   "metadata": {
    "colab": {
     "base_uri": "https://localhost:8080/",
     "height": 136
    },
    "executionInfo": {
     "elapsed": 616,
     "status": "ok",
     "timestamp": 1603246266303,
     "user": {
      "displayName": "Edu Freitas",
      "photoUrl": "https://lh3.googleusercontent.com/a-/AOh14GhWFQkwez3VBN_ew1fJcqiFBGJEY7eSIinKE6OAhw=s64",
      "userId": "00586546017962173484"
     },
     "user_tz": 180
    },
    "id": "OXNPh1Hw6ulr",
    "outputId": "d0a1409e-495a-444c-f6ff-861948cc0f3c"
   },
   "outputs": [
    {
     "name": "stdout",
     "output_type": "stream",
     "text": [
      "the capital of spain is madrid\n",
      "the capital of france is paris\n",
      "the capital of germany is berlin\n",
      "the capital of norway is oslo\n",
      "the capital of italy is rome\n",
      "the capital of poland is warsaw\n",
      "the capital of austria is vienna\n"
     ]
    }
   ],
   "source": [
    "# Write a for loop that goes through each key:value pair of europe. \n",
    "# On each iteration, \"the capital of x is y\" should be printed out, \n",
    "# where x is the key and y is the value of the pair.\n",
    "\n",
    "for x, y in europe.items() :\n",
    "  print(\"the capital of \" + str(x) + \" is \" + str(y))"
   ]
  },
  {
   "cell_type": "markdown",
   "metadata": {
    "id": "IbrCyZ3D7JTa"
   },
   "source": [
    "#### **3.5.2. Loop over Numpy array**\n",
    "\n",
    "If you're dealing with a 1D Numpy array, looping over all elements can be as simple as:\n",
    "\n",
    "    for x in my_array :\n",
    "    ...\n",
    "If you're dealing with a 2D Numpy array, it's more complicated. A 2D array is built up of multiple 1D arrays. To explicitly iterate over all separate elements of a multi-dimensional array, you'll need this syntax:\n",
    "\n",
    "    for x in np.nditer(my_array) :\n",
    "    ...\n",
    "Two Numpy arrays that you might recognize from the intro course are available in your Python session: np_height, a Numpy array containing the heights of Major League Baseball players, and np_baseball, a 2D Numpy array that contains both the heights (first column) and weights (second column) of those players."
   ]
  },
  {
   "cell_type": "code",
   "execution_count": null,
   "metadata": {
    "cellView": "form",
    "id": "q4F19vxx8B19"
   },
   "outputs": [],
   "source": [
    "#@title List of heights and weights of Major League Baseball players\n",
    "height_in = [74, 74, 72, 72, 73, 69, 69, 71, 76, 71, 73, 73, 74, 74, 69, 70, 73, 75, 78, 79, 76, 74, 76, 72, 71, 75, 77,\n",
    "             74, 73, 74, 78, 73, 75, 73, 75, 75, 74, 69, 71, 74, 73, 73, 76, 74, 74, 70, 72, 77, 74, 70, 73, 75, 76, 76,\n",
    "             78, 74, 74, 76, 77, 81, 78, 75, 77, 75, 76, 74, 72, 72, 75, 73, 73, 73, 70, 70, 70, 76, 68, 71, 72, 75, 75,\n",
    "             75, 75, 68, 74, 78, 71, 73, 76, 74, 74, 79, 75, 73, 76, 74, 74, 73, 72, 74, 73, 74, 72, 73, 69, 72, 73, 75,\n",
    "             75, 73, 72, 72, 76, 74, 72, 77, 74, 77, 75, 76, 80, 74, 74, 75, 78, 73, 73, 74, 75, 76, 71, 73, 74, 76, 76,\n",
    "             74, 73, 74, 70, 72, 73, 73, 73, 73, 71, 74, 74, 72, 74, 71, 74, 73, 75, 75, 79, 73, 75, 76, 74, 76, 78, 74,\n",
    "             76, 72, 74, 76, 74, 75, 78, 75, 72, 74, 72, 74, 70, 71, 70, 75, 71, 71, 73, 72, 71, 73, 72, 75, 74, 74, 75,\n",
    "             73, 77, 73, 76, 75, 74, 76, 75, 73, 71, 76, 75, 72, 71, 77, 73, 74, 71, 72, 74, 75, 73, 72, 75, 75, 74, 72,\n",
    "             74, 71, 70, 74, 77, 77, 75, 75, 78, 75, 76, 73, 75, 75, 79, 77, 76, 71, 75, 74, 69, 71, 76, 72, 72, 70, 72,\n",
    "             73, 71, 72, 71, 73, 72, 73, 74, 74, 72, 75, 74, 74, 77, 75, 73, 72, 71, 74, 77, 75, 75, 75, 78, 78, 74, 76,\n",
    "             78, 76, 70, 72, 80, 74, 74, 71, 70, 72, 71, 74, 71, 72, 71, 74, 69, 76, 75, 75, 76, 73, 76, 73, 77, 73, 72,\n",
    "             72, 77, 77, 71, 74, 74, 73, 78, 75, 73, 70, 74, 72, 73, 73, 75, 75, 74, 76, 73, 74, 75, 75, 72, 73, 73, 72,\n",
    "             74, 78, 76, 73, 74, 75, 70, 75, 71, 72, 78, 75, 73, 73, 71, 75, 77, 72, 69, 73, 74, 72, 70, 75, 70, 72, 72,\n",
    "             74, 73, 74, 76, 75, 80, 72, 75, 73, 74, 74, 73, 75, 75, 71, 73, 75, 74, 74, 72, 74, 74, 74, 73, 76, 75, 72,\n",
    "             73, 73, 73, 72, 72, 72, 72, 71, 75, 75, 74, 73, 75, 79, 74, 76, 73, 74, 74, 72, 74, 74, 75, 78, 74, 74, 74,\n",
    "             77, 70, 73, 74, 73, 71, 75, 71, 72, 77, 74, 70, 77, 73, 72, 76, 71, 76, 78, 75, 73, 78, 74, 79, 75, 76, 72,\n",
    "             75, 75, 70, 72, 70, 74, 71, 76, 73, 76, 71, 69, 72, 72, 69, 73, 69, 73, 74, 74, 72, 71, 72, 72, 76, 76, 76,\n",
    "             74, 76, 75, 71, 72, 71, 73, 75, 76, 75, 71, 75, 74, 72, 73, 73, 73, 73, 76, 72, 76, 73, 73, 73, 75, 75, 77,\n",
    "             73, 72, 75, 70, 74, 72, 80, 71, 71, 74, 74, 73, 75, 76, 73, 77, 72, 73, 77, 76, 71, 75, 73, 74, 77, 71, 72,\n",
    "             73, 69, 73, 70, 74, 76, 73, 73, 75, 73, 79, 74, 73, 74, 77, 75, 74, 73, 77, 73, 77, 74, 74, 73, 77, 74, 77,\n",
    "             75, 77, 75, 71, 74, 70, 79, 72, 72, 70, 74, 74, 72, 73, 72, 74, 74, 76, 82, 74, 74, 70, 73, 73, 74, 77, 72,\n",
    "             76, 73, 73, 72, 74, 74, 71, 72, 75, 74, 74, 77, 70, 71, 73, 76, 71, 75, 74, 72, 76, 79, 76, 73, 76, 78, 75,\n",
    "             76, 72, 72, 73, 73, 75, 71, 76, 70, 75, 74, 75, 73, 71, 71, 72, 73, 73, 72, 69, 73, 78, 71, 73, 75, 76, 70,\n",
    "             74, 77, 75, 79, 72, 77, 73, 75, 75, 75, 73, 73, 76, 77, 75, 70, 71, 71, 75, 74, 69, 70, 75, 72, 75, 73, 72,\n",
    "             72, 72, 76, 75, 74, 69, 73, 72, 72, 75, 77, 76, 80, 77, 76, 79, 71, 75, 73, 76, 77, 73, 76, 70, 75, 73, 75,\n",
    "             70, 69, 71, 72, 72, 73, 70, 70, 73, 76, 75, 72, 73, 79, 71, 72, 74, 74, 74, 72, 76, 76, 72, 72, 71, 72, 72,\n",
    "             70, 77, 74, 72, 76, 71, 76, 71, 73, 70, 73, 73, 72, 71, 71, 71, 72, 72, 74, 74, 74, 71, 72, 75, 72, 71, 72,\n",
    "             72, 72, 72, 74, 74, 77, 75, 73, 75, 73, 76, 72, 77, 75, 72, 71, 71, 75, 72, 73, 73, 71, 70, 75, 71, 76, 73,\n",
    "             68, 71, 72, 74, 77, 72, 76, 78, 81, 72, 73, 76, 72, 72, 74, 76, 73, 76, 75, 70, 71, 74, 72, 73, 76, 76, 73,\n",
    "             71, 68, 71, 71, 74, 77, 69, 72, 76, 75, 76, 75, 76, 72, 74, 76, 74, 72, 75, 78, 77, 70, 72, 79, 74, 71, 68,\n",
    "             77, 75, 71, 72, 70, 72, 72, 73, 72, 74, 72, 72, 75, 72, 73, 74, 72, 78, 75, 72, 74, 75, 75, 76, 74, 74, 73,\n",
    "             74, 71, 74, 75, 76, 74, 76, 76, 73, 75, 75, 74, 68, 72, 75, 71, 70, 72, 73, 72, 75, 74, 70, 76, 71, 82, 72,\n",
    "             73, 74, 71, 75, 77, 72, 74, 72, 73, 78, 77, 73, 73, 73, 73, 73, 76, 75, 70, 73, 72, 73, 75, 74, 73, 73, 76,\n",
    "             73, 75, 70, 77, 72, 77, 74, 75, 75, 75, 75, 72, 74, 71, 76, 71, 75, 76, 83, 75, 74, 76, 72, 72, 75, 75, 72,\n",
    "             77, 73, 72, 70, 74, 72, 74, 72, 71, 70, 71, 76, 74, 76, 74, 74, 74, 75, 75, 71, 71, 74, 77, 71, 74, 75, 77,\n",
    "             76, 74, 76, 72, 71, 72, 75, 73, 68, 72, 69, 73, 73, 75, 70, 70, 74, 75, 74, 74, 73, 74, 75, 77, 73, 74, 76,\n",
    "             74, 75, 73, 76, 78, 75, 73, 77, 74, 72, 74, 72, 71, 73, 75, 73, 67, 67, 76, 74, 73, 70, 75, 70, 72, 77, 79,\n",
    "             78, 74, 75, 75, 78, 76, 75, 69, 75, 72, 75, 73, 74, 75, 75, 73]\n",
    "\n",
    "weight_lb = [180, 215, 210, 210, 188, 176, 209, 200, 231, 180, 188, 180, 185, 160, 180, 185, 189, 185, 219, 230, 205,\n",
    "             230, 195, 180, 192, 225, 203, 195, 182, 188, 200, 180, 200, 200, 245, 240, 215, 185, 175, 199, 200, 215,\n",
    "             200, 205, 206, 186, 188, 220, 210, 195, 200, 200, 212, 224, 210, 205, 220, 195, 200, 260, 228, 270, 200,\n",
    "             210, 190, 220, 180, 205, 210, 220, 211, 200, 180, 190, 170, 230, 155, 185, 185, 200, 225, 225, 220, 160,\n",
    "             205, 235, 250, 210, 190, 160, 200, 205, 222, 195, 205, 220, 220, 170, 185, 195, 220, 230, 180, 220, 180,\n",
    "             180, 170, 210, 215, 200, 213, 180, 192, 235, 185, 235, 210, 222, 210, 230, 220, 180, 190, 200, 210, 194,\n",
    "             180, 190, 240, 200, 198, 200, 195, 210, 220, 190, 210, 225, 180, 185, 170, 185, 185, 180, 178, 175, 200,\n",
    "             204, 211, 190, 210, 190, 190, 185, 290, 175, 185, 200, 220, 170, 220, 190, 220, 205, 200, 250, 225, 215,\n",
    "             210, 215, 195, 200, 194, 220, 180, 180, 170, 195, 180, 170, 206, 205, 200, 225, 201, 225, 233, 180, 225,\n",
    "             180, 220, 180, 237, 215, 190, 235, 190, 180, 165, 195, 200, 190, 190, 185, 185, 205, 190, 205, 206, 220,\n",
    "             208, 170, 195, 210, 190, 211, 230, 170, 185, 185, 241, 225, 210, 175, 230, 200, 215, 198, 226, 278, 215,\n",
    "             230, 240, 184, 219, 170, 218, 190, 225, 220, 176, 190, 197, 204, 167, 180, 195, 220, 215, 185, 190, 205,\n",
    "             205, 200, 210, 215, 200, 205, 211, 190, 208, 200, 210, 232, 230, 210, 220, 210, 202, 212, 225, 170, 190,\n",
    "             200, 237, 220, 170, 193, 190, 150, 220, 200, 190, 185, 185, 200, 172, 220, 225, 190, 195, 219, 190, 197,\n",
    "             200, 195, 210, 177, 220, 235, 180, 195, 195, 190, 230, 190, 200, 190, 190, 200, 200, 184, 200, 180, 219,\n",
    "             187, 200, 220, 205, 190, 170, 160, 215, 175, 205, 200, 214, 200, 190, 180, 205, 220, 190, 215, 235, 191,\n",
    "             200, 181, 200, 210, 240, 185, 165, 190, 185, 175, 155, 210, 170, 175, 220, 210, 205, 200, 205, 195, 240,\n",
    "             150, 200, 215, 202, 200, 190, 205, 190, 160, 215, 185, 200, 190, 210, 185, 220, 190, 202, 205, 220, 175,\n",
    "             160, 190, 200, 229, 206, 220, 180, 195, 175, 188, 230, 190, 200, 190, 219, 235, 180, 180, 180, 200, 234,\n",
    "             185, 220, 223, 200, 210, 200, 210, 190, 177, 227, 180, 195, 199, 175, 185, 240, 210, 180, 194, 225, 180,\n",
    "             205, 193, 230, 230, 220, 200, 249, 190, 208, 245, 250, 160, 192, 220, 170, 197, 155, 190, 200, 220, 210,\n",
    "             228, 190, 160, 184, 180, 180, 200, 176, 160, 222, 211, 195, 200, 175, 206, 240, 185, 260, 185, 221, 205,\n",
    "             200, 170, 201, 205, 185, 205, 245, 220, 210, 220, 185, 175, 170, 180, 200, 210, 175, 220, 206, 180, 210,\n",
    "             195, 200, 200, 164, 180, 220, 195, 205, 170, 240, 210, 195, 200, 205, 192, 190, 170, 240, 200, 205, 175,\n",
    "             250, 220, 224, 210, 195, 180, 245, 175, 180, 215, 175, 180, 195, 230, 230, 205, 215, 195, 180, 205, 180,\n",
    "             190, 180, 190, 190, 220, 210, 255, 190, 230, 200, 205, 210, 225, 215, 220, 205, 200, 220, 197, 225, 187,\n",
    "             245, 185, 185, 175, 200, 180, 188, 225, 200, 210, 245, 213, 231, 165, 228, 210, 250, 191, 190, 200, 215,\n",
    "             254, 232, 180, 215, 220, 180, 200, 170, 195, 210, 200, 220, 165, 180, 200, 200, 170, 224, 220, 180, 198,\n",
    "             240, 239, 185, 210, 220, 200, 195, 220, 230, 170, 220, 230, 165, 205, 192, 210, 205, 200, 210, 185, 195,\n",
    "             202, 205, 195, 180, 200, 185, 240, 185, 220, 205, 205, 180, 201, 190, 208, 240, 180, 230, 195, 215, 190,\n",
    "             195, 215, 215, 220, 220, 230, 195, 190, 195, 209, 204, 170, 185, 205, 175, 210, 190, 180, 180, 160, 235,\n",
    "             200, 210, 180, 190, 197, 203, 205, 170, 200, 250, 200, 220, 200, 190, 170, 190, 220, 215, 206, 215, 185,\n",
    "             235, 188, 230, 195, 168, 190, 160, 200, 200, 189, 180, 190, 200, 220, 187, 240, 190, 180, 185, 210, 220,\n",
    "             219, 190, 193, 175, 180, 215, 210, 200, 190, 185, 220, 170, 195, 205, 195, 210, 190, 190, 180, 220, 190,\n",
    "             186, 185, 190, 180, 190, 170, 210, 240, 220, 180, 210, 210, 195, 160, 180, 205, 200, 185, 245, 190, 210,\n",
    "             200, 200, 222, 215, 240, 170, 220, 156, 190, 202, 221, 200, 190, 210, 190, 200, 165, 190, 185, 230, 208,\n",
    "             209, 175, 180, 200, 205, 200, 250, 210, 230, 244, 202, 240, 200, 215, 177, 210, 170, 215, 217, 198, 200,\n",
    "             220, 170, 200, 230, 231, 183, 192, 167, 190, 180, 180, 215, 160, 205, 223, 175, 170, 190, 240, 175, 230,\n",
    "             223, 196, 167, 195, 190, 250, 190, 190, 190, 170, 160, 150, 225, 220, 209, 210, 176, 260, 195, 190, 184,\n",
    "             180, 195, 195, 219, 225, 212, 202, 185, 200, 209, 200, 195, 228, 210, 190, 212, 190, 218, 220, 190, 235,\n",
    "             210, 200, 188, 210, 235, 188, 215, 216, 220, 180, 185, 200, 210, 220, 185, 231, 210, 195, 200, 205, 200,\n",
    "             190, 250, 185, 180, 170, 180, 208, 235, 215, 244, 220, 185, 230, 190, 200, 180, 190, 196, 180, 230, 224,\n",
    "             160, 178, 205, 185, 210, 180, 190, 200, 257, 190, 220, 165, 205, 200, 208, 185, 215, 170, 235, 210, 170,\n",
    "             180, 170, 190, 150, 230, 203, 260, 246, 186, 210, 198, 210, 215, 180, 200, 245, 200, 192, 192, 200, 192,\n",
    "             205, 190, 186, 170, 197, 219, 200, 220, 207, 225, 207, 212, 225, 170, 190, 210, 230, 210, 200, 238, 234,\n",
    "             222, 200, 190, 170, 220, 223, 210, 215, 196, 175, 175, 189, 205, 210, 180, 180, 197, 220, 228, 190, 204,\n",
    "             165, 216, 220, 208, 210, 215, 195, 200, 215, 229, 240, 207, 205, 208, 185, 190, 170, 208, 225, 190, 225,\n",
    "             185, 180, 165, 240, 220, 212, 163, 215, 175, 205, 210, 205, 208, 215, 180, 200, 230, 211, 230, 190, 220,\n",
    "             180, 205, 190, 180, 205, 190, 195]\n",
    "baseball = [[74, 180], [74, 215], [72, 210], [72, 210], [73, 188], [69, 176], [69, 209], [71, 200], [76, 231],\n",
    "            [71, 180], [73, 188], [73, 180], [74, 185], [74, 160], [69, 180], [70, 185], [73, 189], [75, 185],\n",
    "            [78, 219], [79, 230], [76, 205], [74, 230], [76, 195], [72, 180], [71, 192], [75, 225], [77, 203],\n",
    "            [74, 195], [73, 182], [74, 188], [78, 200], [73, 180], [75, 200], [73, 200], [75, 245], [75, 240],\n",
    "            [74, 215], [69, 185], [71, 175], [74, 199], [73, 200], [73, 215], [76, 200], [74, 205], [74, 206],\n",
    "            [70, 186], [72, 188], [77, 220], [74, 210], [70, 195], [73, 200], [75, 200], [76, 212], [76, 224],\n",
    "            [78, 210], [74, 205], [74, 220], [76, 195], [77, 200], [81, 260], [78, 228], [75, 270], [77, 200],\n",
    "            [75, 210], [76, 190], [74, 220], [72, 180], [72, 205], [75, 210], [73, 220], [73, 211], [73, 200],\n",
    "            [70, 180], [70, 190], [70, 170], [76, 230], [68, 155], [71, 185], [72, 185], [75, 200], [75, 225],\n",
    "            [75, 225], [75, 220], [68, 160], [74, 205], [78, 235], [71, 250], [73, 210], [76, 190], [74, 160],\n",
    "            [74, 200], [79, 205], [75, 222], [73, 195], [76, 205], [74, 220], [74, 220], [73, 170], [72, 185],\n",
    "            [74, 195], [73, 220], [74, 230], [72, 180], [73, 220], [69, 180], [72, 180], [73, 170], [75, 210],\n",
    "            [75, 215], [73, 200], [72, 213], [72, 180], [76, 192], [74, 235], [72, 185], [77, 235], [74, 210],\n",
    "            [77, 222], [75, 210], [76, 230], [80, 220], [74, 180], [74, 190], [75, 200], [78, 210], [73, 194],\n",
    "            [73, 180], [74, 190], [75, 240], [76, 200], [71, 198], [73, 200], [74, 195], [76, 210], [76, 220],\n",
    "            [74, 190], [73, 210], [74, 225], [70, 180], [72, 185], [73, 170], [73, 185], [73, 185], [73, 180],\n",
    "            [71, 178], [74, 175], [74, 200], [72, 204], [74, 211], [71, 190], [74, 210], [73, 190], [75, 190],\n",
    "            [75, 185], [79, 290], [73, 175], [75, 185], [76, 200], [74, 220], [76, 170], [78, 220], [74, 190],\n",
    "            [76, 220], [72, 205], [74, 200], [76, 250], [74, 225], [75, 215], [78, 210], [75, 215], [72, 195],\n",
    "            [74, 200], [72, 194], [74, 220], [70, 180], [71, 180], [70, 170], [75, 195], [71, 180], [71, 170],\n",
    "            [73, 206], [72, 205], [71, 200], [73, 225], [72, 201], [75, 225], [74, 233], [74, 180], [75, 225],\n",
    "            [73, 180], [77, 220], [73, 180], [76, 237], [75, 215], [74, 190], [76, 235], [75, 190], [73, 180],\n",
    "            [71, 165], [76, 195], [75, 200], [72, 190], [71, 190], [77, 185], [73, 185], [74, 205], [71, 190],\n",
    "            [72, 205], [74, 206], [75, 220], [73, 208], [72, 170], [75, 195], [75, 210], [74, 190], [72, 211],\n",
    "            [74, 230], [71, 170], [70, 185], [74, 185], [77, 241], [77, 225], [75, 210], [75, 175], [78, 230],\n",
    "            [75, 200], [76, 215], [73, 198], [75, 226], [75, 278], [79, 215], [77, 230], [76, 240], [71, 184],\n",
    "            [75, 219], [74, 170], [69, 218], [71, 190], [76, 225], [72, 220], [72, 176], [70, 190], [72, 197],\n",
    "            [73, 204], [71, 167], [72, 180], [71, 195], [73, 220], [72, 215], [73, 185], [74, 190], [74, 205],\n",
    "            [72, 205], [75, 200], [74, 210], [74, 215], [77, 200], [75, 205], [73, 211], [72, 190], [71, 208],\n",
    "            [74, 200], [77, 210], [75, 232], [75, 230], [75, 210], [78, 220], [78, 210], [74, 202], [76, 212],\n",
    "            [78, 225], [76, 170], [70, 190], [72, 200], [80, 237], [74, 220], [74, 170], [71, 193], [70, 190],\n",
    "            [72, 150], [71, 220], [74, 200], [71, 190], [72, 185], [71, 185], [74, 200], [69, 172], [76, 220],\n",
    "            [75, 225], [75, 190], [76, 195], [73, 219], [76, 190], [73, 197], [77, 200], [73, 195], [72, 210],\n",
    "            [72, 177], [77, 220], [77, 235], [71, 180], [74, 195], [74, 195], [73, 190], [78, 230], [75, 190],\n",
    "            [73, 200], [70, 190], [74, 190], [72, 200], [73, 200], [73, 184], [75, 200], [75, 180], [74, 219],\n",
    "            [76, 187], [73, 200], [74, 220], [75, 205], [75, 190], [72, 170], [73, 160], [73, 215], [72, 175],\n",
    "            [74, 205], [78, 200], [76, 214], [73, 200], [74, 190], [75, 180], [70, 205], [75, 220], [71, 190],\n",
    "            [72, 215], [78, 235], [75, 191], [73, 200], [73, 181], [71, 200], [75, 210], [77, 240], [72, 185],\n",
    "            [69, 165], [73, 190], [74, 185], [72, 175], [70, 155], [75, 210], [70, 170], [72, 175], [72, 220],\n",
    "            [74, 210], [73, 205], [74, 200], [76, 205], [75, 195], [80, 240], [72, 150], [75, 200], [73, 215],\n",
    "            [74, 202], [74, 200], [73, 190], [75, 205], [75, 190], [71, 160], [73, 215], [75, 185], [74, 200],\n",
    "            [74, 190], [72, 210], [74, 185], [74, 220], [74, 190], [73, 202], [76, 205], [75, 220], [72, 175],\n",
    "            [73, 160], [73, 190], [73, 200], [72, 229], [72, 206], [72, 220], [72, 180], [71, 195], [75, 175],\n",
    "            [75, 188], [74, 230], [73, 190], [75, 200], [79, 190], [74, 219], [76, 235], [73, 180], [74, 180],\n",
    "            [74, 180], [72, 200], [74, 234], [74, 185], [75, 220], [78, 223], [74, 200], [74, 210], [74, 200],\n",
    "            [77, 210], [70, 190], [73, 177], [74, 227], [73, 180], [71, 195], [75, 199], [71, 175], [72, 185],\n",
    "            [77, 240], [74, 210], [70, 180], [77, 194], [73, 225], [72, 180], [76, 205], [71, 193], [76, 230],\n",
    "            [78, 230], [75, 220], [73, 200], [78, 249], [74, 190], [79, 208], [75, 245], [76, 250], [72, 160],\n",
    "            [75, 192], [75, 220], [70, 170], [72, 197], [70, 155], [74, 190], [71, 200], [76, 220], [73, 210],\n",
    "            [76, 228], [71, 190], [69, 160], [72, 184], [72, 180], [69, 180], [73, 200], [69, 176], [73, 160],\n",
    "            [74, 222], [74, 211], [72, 195], [71, 200], [72, 175], [72, 206], [76, 240], [76, 185], [76, 260],\n",
    "            [74, 185], [76, 221], [75, 205], [71, 200], [72, 170], [71, 201], [73, 205], [75, 185], [76, 205],\n",
    "            [75, 245], [71, 220], [75, 210], [74, 220], [72, 185], [73, 175], [73, 170], [73, 180], [73, 200],\n",
    "            [76, 210], [72, 175], [76, 220], [73, 206], [73, 180], [73, 210], [75, 195], [75, 200], [77, 200],\n",
    "            [73, 164], [72, 180], [75, 220], [70, 195], [74, 205], [72, 170], [80, 240], [71, 210], [71, 195],\n",
    "            [74, 200], [74, 205], [73, 192], [75, 190], [76, 170], [73, 240], [77, 200], [72, 205], [73, 175],\n",
    "            [77, 250], [76, 220], [71, 224], [75, 210], [73, 195], [74, 180], [77, 245], [71, 175], [72, 180],\n",
    "            [73, 215], [69, 175], [73, 180], [70, 195], [74, 230], [76, 230], [73, 205], [73, 215], [75, 195],\n",
    "            [73, 180], [79, 205], [74, 180], [73, 190], [74, 180], [77, 190], [75, 190], [74, 220], [73, 210],\n",
    "            [77, 255], [73, 190], [77, 230], [74, 200], [74, 205], [73, 210], [77, 225], [74, 215], [77, 220],\n",
    "            [75, 205], [77, 200], [75, 220], [71, 197], [74, 225], [70, 187], [79, 245], [72, 185], [72, 185],\n",
    "            [70, 175], [74, 200], [74, 180], [72, 188], [73, 225], [72, 200], [74, 210], [74, 245], [76, 213],\n",
    "            [82, 231], [74, 165], [74, 228], [70, 210], [73, 250], [73, 191], [74, 190], [77, 200], [72, 215],\n",
    "            [76, 254], [73, 232], [73, 180], [72, 215], [74, 220], [74, 180], [71, 200], [72, 170], [75, 195],\n",
    "            [74, 210], [74, 200], [77, 220], [70, 165], [71, 180], [73, 200], [76, 200], [71, 170], [75, 224],\n",
    "            [74, 220], [72, 180], [76, 198], [79, 240], [76, 239], [73, 185], [76, 210], [78, 220], [75, 200],\n",
    "            [76, 195], [72, 220], [72, 230], [73, 170], [73, 220], [75, 230], [71, 165], [76, 205], [70, 192],\n",
    "            [75, 210], [74, 205], [75, 200], [73, 210], [71, 185], [71, 195], [72, 202], [73, 205], [73, 195],\n",
    "            [72, 180], [69, 200], [73, 185], [78, 240], [71, 185], [73, 220], [75, 205], [76, 205], [70, 180],\n",
    "            [74, 201], [77, 190], [75, 208], [79, 240], [72, 180], [77, 230], [73, 195], [75, 215], [75, 190],\n",
    "            [75, 195], [73, 215], [73, 215], [76, 220], [77, 220], [75, 230], [70, 195], [71, 190], [71, 195],\n",
    "            [75, 209], [74, 204], [69, 170], [70, 185], [75, 205], [72, 175], [75, 210], [73, 190], [72, 180],\n",
    "            [72, 180], [72, 160], [76, 235], [75, 200], [74, 210], [69, 180], [73, 190], [72, 197], [72, 203],\n",
    "            [75, 205], [77, 170], [76, 200], [80, 250], [77, 200], [76, 220], [79, 200], [71, 190], [75, 170],\n",
    "            [73, 190], [76, 220], [77, 215], [73, 206], [76, 215], [70, 185], [75, 235], [73, 188], [75, 230],\n",
    "            [70, 195], [69, 168], [71, 190], [72, 160], [72, 200], [73, 200], [70, 189], [70, 180], [73, 190],\n",
    "            [76, 200], [75, 220], [72, 187], [73, 240], [79, 190], [71, 180], [72, 185], [74, 210], [74, 220],\n",
    "            [74, 219], [72, 190], [76, 193], [76, 175], [72, 180], [72, 215], [71, 210], [72, 200], [72, 190],\n",
    "            [70, 185], [77, 220], [74, 170], [72, 195], [76, 205], [71, 195], [76, 210], [71, 190], [73, 190],\n",
    "            [70, 180], [73, 220], [73, 190], [72, 186], [71, 185], [71, 190], [71, 180], [72, 190], [72, 170],\n",
    "            [74, 210], [74, 240], [74, 220], [71, 180], [72, 210], [75, 210], [72, 195], [71, 160], [72, 180],\n",
    "            [72, 205], [72, 200], [72, 185], [74, 245], [74, 190], [77, 210], [75, 200], [73, 200], [75, 222],\n",
    "            [73, 215], [76, 240], [72, 170], [77, 220], [75, 156], [72, 190], [71, 202], [71, 221], [75, 200],\n",
    "            [72, 190], [73, 210], [73, 190], [71, 200], [70, 165], [75, 190], [71, 185], [76, 230], [73, 208],\n",
    "            [68, 209], [71, 175], [72, 180], [74, 200], [77, 205], [72, 200], [76, 250], [78, 210], [81, 230],\n",
    "            [72, 244], [73, 202], [76, 240], [72, 200], [72, 215], [74, 177], [76, 210], [73, 170], [76, 215],\n",
    "            [75, 217], [70, 198], [71, 200], [74, 220], [72, 170], [73, 200], [76, 230], [76, 231], [73, 183],\n",
    "            [71, 192], [68, 167], [71, 190], [71, 180], [74, 180], [77, 215], [69, 160], [72, 205], [76, 223],\n",
    "            [75, 175], [76, 170], [75, 190], [76, 240], [72, 175], [74, 230], [76, 223], [74, 196], [72, 167],\n",
    "            [75, 195], [78, 190], [77, 250], [70, 190], [72, 190], [79, 190], [74, 170], [71, 160], [68, 150],\n",
    "            [77, 225], [75, 220], [71, 209], [72, 210], [70, 176], [72, 260], [72, 195], [73, 190], [72, 184],\n",
    "            [74, 180], [72, 195], [72, 195], [75, 219], [72, 225], [73, 212], [74, 202], [72, 185], [78, 200],\n",
    "            [75, 209], [72, 200], [74, 195], [75, 228], [75, 210], [76, 190], [74, 212], [74, 190], [73, 218],\n",
    "            [74, 220], [71, 190], [74, 235], [75, 210], [76, 200], [74, 188], [76, 210], [76, 235], [73, 188],\n",
    "            [75, 215], [75, 216], [74, 220], [68, 180], [72, 185], [75, 200], [71, 210], [70, 220], [72, 185],\n",
    "            [73, 231], [72, 210], [75, 195], [74, 200], [70, 205], [76, 200], [71, 190], [82, 250], [72, 185],\n",
    "            [73, 180], [74, 170], [71, 180], [75, 208], [77, 235], [72, 215], [74, 244], [72, 220], [73, 185],\n",
    "            [78, 230], [77, 190], [73, 200], [73, 180], [73, 190], [73, 196], [73, 180], [76, 230], [75, 224],\n",
    "            [70, 160], [73, 178], [72, 205], [73, 185], [75, 210], [74, 180], [73, 190], [73, 200], [76, 257],\n",
    "            [73, 190], [75, 220], [70, 165], [77, 205], [72, 200], [77, 208], [74, 185], [75, 215], [75, 170],\n",
    "            [75, 235], [75, 210], [72, 170], [74, 180], [71, 170], [76, 190], [71, 150], [75, 230], [76, 203],\n",
    "            [83, 260], [75, 246], [74, 186], [76, 210], [72, 198], [72, 210], [75, 215], [75, 180], [72, 200],\n",
    "            [77, 245], [73, 200], [72, 192], [70, 192], [74, 200], [72, 192], [74, 205], [72, 190], [71, 186],\n",
    "            [70, 170], [71, 197], [76, 219], [74, 200], [76, 220], [74, 207], [74, 225], [74, 207], [75, 212],\n",
    "            [75, 225], [71, 170], [71, 190], [74, 210], [77, 230], [71, 210], [74, 200], [75, 238], [77, 234],\n",
    "            [76, 222], [74, 200], [76, 190], [72, 170], [71, 220], [72, 223], [75, 210], [73, 215], [68, 196],\n",
    "            [72, 175], [69, 175], [73, 189], [73, 205], [75, 210], [70, 180], [70, 180], [74, 197], [75, 220],\n",
    "            [74, 228], [74, 190], [73, 204], [74, 165], [75, 216], [77, 220], [73, 208], [74, 210], [76, 215],\n",
    "            [74, 195], [75, 200], [73, 215], [76, 229], [78, 240], [75, 207], [73, 205], [77, 208], [74, 185],\n",
    "            [72, 190], [74, 170], [72, 208], [71, 225], [73, 190], [75, 225], [73, 185], [67, 180], [67, 165],\n",
    "            [76, 240], [74, 220], [73, 212], [70, 163], [75, 215], [70, 175], [72, 205], [77, 210], [79, 205],\n",
    "            [78, 208], [74, 215], [75, 180], [75, 200], [78, 230], [76, 211], [75, 230], [69, 190], [75, 220],\n",
    "            [72, 180], [75, 205], [73, 190], [74, 180], [75, 205], [75, 190], [73, 195]]"
   ]
  },
  {
   "cell_type": "code",
   "execution_count": null,
   "metadata": {
    "id": "1-zITGi99B0R"
   },
   "outputs": [],
   "source": [
    "import numpy as np\n",
    "np_height = np.array(height_in)\n",
    "np_baseball = np.array(baseball)"
   ]
  },
  {
   "cell_type": "code",
   "execution_count": null,
   "metadata": {
    "id": "GbiaFQQh-c8-"
   },
   "outputs": [],
   "source": [
    "# Write a for loop that iterates over all elements in np_height and prints out \n",
    "# \"x inches\" for each element, where x is the value in the array.\n",
    "for x in np.nditer(np_height) :\n",
    "  print(str(x) + \" inches\")"
   ]
  },
  {
   "cell_type": "code",
   "execution_count": null,
   "metadata": {
    "colab": {
     "base_uri": "https://localhost:8080/",
     "height": 153
    },
    "executionInfo": {
     "elapsed": 703,
     "status": "ok",
     "timestamp": 1603248318821,
     "user": {
      "displayName": "Edu Freitas",
      "photoUrl": "https://lh3.googleusercontent.com/a-/AOh14GhWFQkwez3VBN_ew1fJcqiFBGJEY7eSIinKE6OAhw=s64",
      "userId": "00586546017962173484"
     },
     "user_tz": 180
    },
    "id": "7f3XzjiZ-pPZ",
    "outputId": "96babcbb-daf7-46db-833d-56c73c764a25"
   },
   "outputs": [
    {
     "name": "stdout",
     "output_type": "stream",
     "text": [
      "180.0\n",
      "78.4\n",
      "215.0\n",
      "102.7\n",
      "210.0\n",
      "98.5\n",
      "188.0\n",
      "75.2\n"
     ]
    }
   ],
   "source": [
    "# Write a for loop that visits every element of the np_baseball array.\n",
    "for e in np.nditer(np_baseball) :\n",
    "  print(str(e))"
   ]
  },
  {
   "cell_type": "markdown",
   "metadata": {
    "id": "plvKkYO9Cl3c"
   },
   "source": [
    "## **4. Loop Data Structures - Part 2**"
   ]
  },
  {
   "cell_type": "markdown",
   "metadata": {
    "id": "w3ab_nbDNvP5"
   },
   "source": [
    "### **4.1. brics**\n",
    "\n",
    "dfloop.py"
   ]
  },
  {
   "cell_type": "code",
   "execution_count": 3,
   "metadata": {
    "colab": {
     "base_uri": "https://localhost:8080/",
     "height": 204
    },
    "executionInfo": {
     "elapsed": 1323,
     "status": "ok",
     "timestamp": 1603284862004,
     "user": {
      "displayName": "Edu Freitas",
      "photoUrl": "https://lh3.googleusercontent.com/a-/AOh14GhWFQkwez3VBN_ew1fJcqiFBGJEY7eSIinKE6OAhw=s64",
      "userId": "00586546017962173484"
     },
     "user_tz": 180
    },
    "id": "kv6vdXKRN8lR",
    "outputId": "36848bfd-ffa1-45bc-c48f-ac443f2005ed"
   },
   "outputs": [
    {
     "data": {
      "text/html": [
       "<div>\n",
       "<style scoped>\n",
       "    .dataframe tbody tr th:only-of-type {\n",
       "        vertical-align: middle;\n",
       "    }\n",
       "\n",
       "    .dataframe tbody tr th {\n",
       "        vertical-align: top;\n",
       "    }\n",
       "\n",
       "    .dataframe thead th {\n",
       "        text-align: right;\n",
       "    }\n",
       "</style>\n",
       "<table border=\"1\" class=\"dataframe\">\n",
       "  <thead>\n",
       "    <tr style=\"text-align: right;\">\n",
       "      <th></th>\n",
       "      <th>country</th>\n",
       "      <th>capital</th>\n",
       "      <th>area</th>\n",
       "      <th>population</th>\n",
       "    </tr>\n",
       "  </thead>\n",
       "  <tbody>\n",
       "    <tr>\n",
       "      <th>BR</th>\n",
       "      <td>Brazil</td>\n",
       "      <td>Brasilia</td>\n",
       "      <td>8.516</td>\n",
       "      <td>200.40</td>\n",
       "    </tr>\n",
       "    <tr>\n",
       "      <th>RU</th>\n",
       "      <td>Russia</td>\n",
       "      <td>Moscow</td>\n",
       "      <td>17.100</td>\n",
       "      <td>143.50</td>\n",
       "    </tr>\n",
       "    <tr>\n",
       "      <th>IN</th>\n",
       "      <td>India</td>\n",
       "      <td>New Delhi</td>\n",
       "      <td>3.286</td>\n",
       "      <td>1252.00</td>\n",
       "    </tr>\n",
       "    <tr>\n",
       "      <th>CH</th>\n",
       "      <td>China</td>\n",
       "      <td>Beijing</td>\n",
       "      <td>9.597</td>\n",
       "      <td>1357.00</td>\n",
       "    </tr>\n",
       "    <tr>\n",
       "      <th>SA</th>\n",
       "      <td>South Africa</td>\n",
       "      <td>Pretoria</td>\n",
       "      <td>1.221</td>\n",
       "      <td>52.98</td>\n",
       "    </tr>\n",
       "  </tbody>\n",
       "</table>\n",
       "</div>"
      ],
      "text/plain": [
       "         country    capital    area  population\n",
       "BR        Brazil   Brasilia   8.516      200.40\n",
       "RU        Russia     Moscow  17.100      143.50\n",
       "IN         India  New Delhi   3.286     1252.00\n",
       "CH         China    Beijing   9.597     1357.00\n",
       "SA  South Africa   Pretoria   1.221       52.98"
      ]
     },
     "execution_count": 3,
     "metadata": {
      "tags": []
     },
     "output_type": "execute_result"
    }
   ],
   "source": [
    "import pandas as pd\n",
    "brics = pd.read_csv(\"https://assets.datacamp.com/production/repositories/287/datasets/b60fb5bdbeb4e4ab0545c485d351e6ff5428a155/brics.csv\", index_col = 0)\n",
    "brics # Pandas DataFrame"
   ]
  },
  {
   "cell_type": "markdown",
   "metadata": {
    "id": "i-dXmFO-PExn"
   },
   "source": [
    "### **4.2. for, first try**"
   ]
  },
  {
   "cell_type": "code",
   "execution_count": 4,
   "metadata": {
    "colab": {
     "base_uri": "https://localhost:8080/",
     "height": 85
    },
    "executionInfo": {
     "elapsed": 1023,
     "status": "ok",
     "timestamp": 1603284878432,
     "user": {
      "displayName": "Edu Freitas",
      "photoUrl": "https://lh3.googleusercontent.com/a-/AOh14GhWFQkwez3VBN_ew1fJcqiFBGJEY7eSIinKE6OAhw=s64",
      "userId": "00586546017962173484"
     },
     "user_tz": 180
    },
    "id": "TH4GkqbfOEjk",
    "outputId": "44eebca5-7519-4e18-a8e8-20fca4cb202e"
   },
   "outputs": [
    {
     "name": "stdout",
     "output_type": "stream",
     "text": [
      "country\n",
      "capital\n",
      "area\n",
      "population\n"
     ]
    }
   ],
   "source": [
    "for val in brics :\n",
    "    print(val)"
   ]
  },
  {
   "cell_type": "markdown",
   "metadata": {
    "id": "L955a_M9PjbY"
   },
   "source": [
    "### **4.3. iterrows**"
   ]
  },
  {
   "cell_type": "code",
   "execution_count": 5,
   "metadata": {
    "colab": {
     "base_uri": "https://localhost:8080/",
     "height": 527
    },
    "executionInfo": {
     "elapsed": 1244,
     "status": "ok",
     "timestamp": 1603284930346,
     "user": {
      "displayName": "Edu Freitas",
      "photoUrl": "https://lh3.googleusercontent.com/a-/AOh14GhWFQkwez3VBN_ew1fJcqiFBGJEY7eSIinKE6OAhw=s64",
      "userId": "00586546017962173484"
     },
     "user_tz": 180
    },
    "id": "9TAcf337Ob-a",
    "outputId": "2cfbb2ad-7c34-4b42-bcf2-2cac036f51f0"
   },
   "outputs": [
    {
     "name": "stdout",
     "output_type": "stream",
     "text": [
      "BR\n",
      "country         Brazil\n",
      "capital       Brasilia\n",
      "area             8.516\n",
      "population       200.4\n",
      "Name: BR, dtype: object\n",
      "RU\n",
      "country       Russia\n",
      "capital       Moscow\n",
      "area            17.1\n",
      "population     143.5\n",
      "Name: RU, dtype: object\n",
      "IN\n",
      "country           India\n",
      "capital       New Delhi\n",
      "area              3.286\n",
      "population         1252\n",
      "Name: IN, dtype: object\n",
      "CH\n",
      "country         China\n",
      "capital       Beijing\n",
      "area            9.597\n",
      "population       1357\n",
      "Name: CH, dtype: object\n",
      "SA\n",
      "country       South Africa\n",
      "capital           Pretoria\n",
      "area                 1.221\n",
      "population           52.98\n",
      "Name: SA, dtype: object\n"
     ]
    }
   ],
   "source": [
    "for lab, row in brics.iterrows():\n",
    "#The iterrows methods looks at the data frame, and on each iteration generates\n",
    "# two pieces of data: the laben of the row and the actual data in the row as a \n",
    "# Pandas Series\n",
    "    print(lab)\n",
    "    print(row)"
   ]
  },
  {
   "cell_type": "markdown",
   "metadata": {
    "id": "gEmiCtqbPZ3R"
   },
   "source": [
    "### **4.4. Selective print**"
   ]
  },
  {
   "cell_type": "code",
   "execution_count": 7,
   "metadata": {
    "colab": {
     "base_uri": "https://localhost:8080/",
     "height": 102
    },
    "executionInfo": {
     "elapsed": 925,
     "status": "ok",
     "timestamp": 1603285012629,
     "user": {
      "displayName": "Edu Freitas",
      "photoUrl": "https://lh3.googleusercontent.com/a-/AOh14GhWFQkwez3VBN_ew1fJcqiFBGJEY7eSIinKE6OAhw=s64",
      "userId": "00586546017962173484"
     },
     "user_tz": 180
    },
    "id": "Mhy46uf4OolQ",
    "outputId": "6de5bcbb-0f6a-4a9f-e377-df18ba6e8291"
   },
   "outputs": [
    {
     "name": "stdout",
     "output_type": "stream",
     "text": [
      "BR: Brasilia\n",
      "RU: Moscow\n",
      "IN: New Delhi\n",
      "CH: Beijing\n",
      "SA: Pretoria\n"
     ]
    }
   ],
   "source": [
    "for lab, row in brics.iterrows():\n",
    "    print(lab + \": \" + row[\"capital\"])"
   ]
  },
  {
   "cell_type": "markdown",
   "metadata": {
    "id": "qVQolxCuO6gc"
   },
   "source": [
    "### **4.5. Add column**\n",
    "\n",
    "dfloop.py"
   ]
  },
  {
   "cell_type": "code",
   "execution_count": 8,
   "metadata": {
    "colab": {
     "base_uri": "https://localhost:8080/",
     "height": 119
    },
    "executionInfo": {
     "elapsed": 1858,
     "status": "ok",
     "timestamp": 1603286013913,
     "user": {
      "displayName": "Edu Freitas",
      "photoUrl": "https://lh3.googleusercontent.com/a-/AOh14GhWFQkwez3VBN_ew1fJcqiFBGJEY7eSIinKE6OAhw=s64",
      "userId": "00586546017962173484"
     },
     "user_tz": 180
    },
    "id": "KDlMRD1TSsla",
    "outputId": "954be9f3-e0c9-4e45-d8cd-26dd81e721bf"
   },
   "outputs": [
    {
     "name": "stdout",
     "output_type": "stream",
     "text": [
      "         country    capital    area  population  name_length\n",
      "BR        Brazil   Brasilia   8.516      200.40          6.0\n",
      "RU        Russia     Moscow  17.100      143.50          6.0\n",
      "IN         India  New Delhi   3.286     1252.00          5.0\n",
      "CH         China    Beijing   9.597     1357.00          5.0\n",
      "SA  South Africa   Pretoria   1.221       52.98         12.0\n"
     ]
    }
   ],
   "source": [
    "for lab, row in brics.iterrows() :\n",
    "  # - Creating Series on every iteration\n",
    "  brics.loc[lab, \"name_length\"] = len(row[\"country\"])\n",
    "print(brics)"
   ]
  },
  {
   "cell_type": "markdown",
   "metadata": {
    "id": "xwWLjC3YSxBM"
   },
   "source": [
    "### **4.6. apply**\n",
    "\n",
    "dfloop.py"
   ]
  },
  {
   "cell_type": "code",
   "execution_count": 10,
   "metadata": {
    "colab": {
     "base_uri": "https://localhost:8080/",
     "height": 119
    },
    "executionInfo": {
     "elapsed": 1216,
     "status": "ok",
     "timestamp": 1603286155860,
     "user": {
      "displayName": "Edu Freitas",
      "photoUrl": "https://lh3.googleusercontent.com/a-/AOh14GhWFQkwez3VBN_ew1fJcqiFBGJEY7eSIinKE6OAhw=s64",
      "userId": "00586546017962173484"
     },
     "user_tz": 180
    },
    "id": "h36jqoOpTHCA",
    "outputId": "c41792b6-bd6c-4fdf-f8db-bea208dd380e"
   },
   "outputs": [
    {
     "name": "stdout",
     "output_type": "stream",
     "text": [
      "         country    capital    area  population  name_length\n",
      "BR        Brazil   Brasilia   8.516      200.40            6\n",
      "RU        Russia     Moscow  17.100      143.50            6\n",
      "IN         India  New Delhi   3.286     1252.00            5\n",
      "CH         China    Beijing   9.597     1357.00            5\n",
      "SA  South Africa   Pretoria   1.221       52.98           12\n"
     ]
    }
   ],
   "source": [
    "brics[\"name_length\"] = brics[\"country\"].apply(len)\n",
    "print(brics)"
   ]
  },
  {
   "cell_type": "markdown",
   "metadata": {
    "id": "gueVZl6eTPlK"
   },
   "source": [
    "### **4.7. Let's practice**"
   ]
  },
  {
   "cell_type": "markdown",
   "metadata": {
    "id": "fySjGBk2U78f"
   },
   "source": [
    "#### **4.7.1. Loop over DataFrame (1)**\n",
    "Iterating over a Pandas DataFrame is typically done with the iterrows() method. Used in a for loop, every observation is iterated over and on every iteration the row label and actual row contents are available:\n",
    "\n",
    "    for lab, row in brics.iterrows() :\n",
    "        ...\n",
    "        \n",
    "In this and the following exercises you will be working on the cars DataFrame. It contains information on the cars per capita and whether people drive right or left for seven countries in the world."
   ]
  },
  {
   "cell_type": "code",
   "execution_count": 17,
   "metadata": {
    "colab": {
     "base_uri": "https://localhost:8080/",
     "height": 266
    },
    "executionInfo": {
     "elapsed": 1486,
     "status": "ok",
     "timestamp": 1603286944139,
     "user": {
      "displayName": "Edu Freitas",
      "photoUrl": "https://lh3.googleusercontent.com/a-/AOh14GhWFQkwez3VBN_ew1fJcqiFBGJEY7eSIinKE6OAhw=s64",
      "userId": "00586546017962173484"
     },
     "user_tz": 180
    },
    "id": "rjAod6kuVwdp",
    "outputId": "f31bdf09-2dcf-4904-b021-09f5f2e6c633"
   },
   "outputs": [
    {
     "data": {
      "text/html": [
       "<div>\n",
       "<style scoped>\n",
       "    .dataframe tbody tr th:only-of-type {\n",
       "        vertical-align: middle;\n",
       "    }\n",
       "\n",
       "    .dataframe tbody tr th {\n",
       "        vertical-align: top;\n",
       "    }\n",
       "\n",
       "    .dataframe thead th {\n",
       "        text-align: right;\n",
       "    }\n",
       "</style>\n",
       "<table border=\"1\" class=\"dataframe\">\n",
       "  <thead>\n",
       "    <tr style=\"text-align: right;\">\n",
       "      <th></th>\n",
       "      <th>cars_per_cap</th>\n",
       "      <th>country</th>\n",
       "      <th>drives_right</th>\n",
       "    </tr>\n",
       "  </thead>\n",
       "  <tbody>\n",
       "    <tr>\n",
       "      <th>US</th>\n",
       "      <td>809</td>\n",
       "      <td>United States</td>\n",
       "      <td>True</td>\n",
       "    </tr>\n",
       "    <tr>\n",
       "      <th>AUS</th>\n",
       "      <td>731</td>\n",
       "      <td>Australia</td>\n",
       "      <td>False</td>\n",
       "    </tr>\n",
       "    <tr>\n",
       "      <th>JAP</th>\n",
       "      <td>588</td>\n",
       "      <td>Japan</td>\n",
       "      <td>False</td>\n",
       "    </tr>\n",
       "    <tr>\n",
       "      <th>IN</th>\n",
       "      <td>18</td>\n",
       "      <td>India</td>\n",
       "      <td>False</td>\n",
       "    </tr>\n",
       "    <tr>\n",
       "      <th>RU</th>\n",
       "      <td>200</td>\n",
       "      <td>Russia</td>\n",
       "      <td>True</td>\n",
       "    </tr>\n",
       "    <tr>\n",
       "      <th>MOR</th>\n",
       "      <td>70</td>\n",
       "      <td>Morocco</td>\n",
       "      <td>True</td>\n",
       "    </tr>\n",
       "    <tr>\n",
       "      <th>EG</th>\n",
       "      <td>45</td>\n",
       "      <td>Egypt</td>\n",
       "      <td>True</td>\n",
       "    </tr>\n",
       "  </tbody>\n",
       "</table>\n",
       "</div>"
      ],
      "text/plain": [
       "     cars_per_cap        country  drives_right\n",
       "US            809  United States          True\n",
       "AUS           731      Australia         False\n",
       "JAP           588          Japan         False\n",
       "IN             18          India         False\n",
       "RU            200         Russia          True\n",
       "MOR            70        Morocco          True\n",
       "EG             45          Egypt          True"
      ]
     },
     "execution_count": 17,
     "metadata": {
      "tags": []
     },
     "output_type": "execute_result"
    }
   ],
   "source": [
    "import pandas as pd\n",
    "cars = pd.read_csv(\"https://assets.datacamp.com/production/repositories/287/datasets/79b3c22c47a2f45a800c62cae39035ff2ea4e609/cars.csv\", index_col=0)\n",
    "cars"
   ]
  },
  {
   "cell_type": "code",
   "execution_count": 16,
   "metadata": {
    "colab": {
     "base_uri": "https://localhost:8080/",
     "height": 612
    },
    "executionInfo": {
     "elapsed": 923,
     "status": "ok",
     "timestamp": 1603286928806,
     "user": {
      "displayName": "Edu Freitas",
      "photoUrl": "https://lh3.googleusercontent.com/a-/AOh14GhWFQkwez3VBN_ew1fJcqiFBGJEY7eSIinKE6OAhw=s64",
      "userId": "00586546017962173484"
     },
     "user_tz": 180
    },
    "id": "gL9f3HmbVV2i",
    "outputId": "26b8ef06-0343-49f4-ed87-7f2f0bccbb64"
   },
   "outputs": [
    {
     "name": "stdout",
     "output_type": "stream",
     "text": [
      "US\n",
      "cars_per_cap              809\n",
      "country         United States\n",
      "drives_right             True\n",
      "Name: US, dtype: object\n",
      "AUS\n",
      "cars_per_cap          731\n",
      "country         Australia\n",
      "drives_right        False\n",
      "Name: AUS, dtype: object\n",
      "JAP\n",
      "cars_per_cap      588\n",
      "country         Japan\n",
      "drives_right    False\n",
      "Name: JAP, dtype: object\n",
      "IN\n",
      "cars_per_cap       18\n",
      "country         India\n",
      "drives_right    False\n",
      "Name: IN, dtype: object\n",
      "RU\n",
      "cars_per_cap       200\n",
      "country         Russia\n",
      "drives_right      True\n",
      "Name: RU, dtype: object\n",
      "MOR\n",
      "cars_per_cap         70\n",
      "country         Morocco\n",
      "drives_right       True\n",
      "Name: MOR, dtype: object\n",
      "EG\n",
      "cars_per_cap       45\n",
      "country         Egypt\n",
      "drives_right     True\n",
      "Name: EG, dtype: object\n"
     ]
    }
   ],
   "source": [
    "# Write a for loop that iterates over the rows of cars and on each iteration \n",
    "# perform two print() calls: one to print out the row label and one to print out\n",
    "# all of the rows contents.\n",
    "for rows, contents in cars.iterrows() :\n",
    "  print(rows)\n",
    "  print(contents)"
   ]
  },
  {
   "cell_type": "markdown",
   "metadata": {
    "id": "NyJo5PYoVp2b"
   },
   "source": [
    "#### **4.7.2. Loop over DataFrame (2)**\n",
    "\n",
    "The row data that's generated by iterrows() on every run is a Pandas Series. This format is not very convenient to print out. Luckily, you can easily select variables from the Pandas Series using square brackets:\n",
    "\n",
    "    for lab, row in brics.iterrows() :\n",
    "        print(row['country'])"
   ]
  },
  {
   "cell_type": "code",
   "execution_count": 19,
   "metadata": {
    "colab": {
     "base_uri": "https://localhost:8080/",
     "height": 136
    },
    "executionInfo": {
     "elapsed": 1304,
     "status": "ok",
     "timestamp": 1603287185054,
     "user": {
      "displayName": "Edu Freitas",
      "photoUrl": "https://lh3.googleusercontent.com/a-/AOh14GhWFQkwez3VBN_ew1fJcqiFBGJEY7eSIinKE6OAhw=s64",
      "userId": "00586546017962173484"
     },
     "user_tz": 180
    },
    "id": "cM-4ndf1WrFL",
    "outputId": "2abd34df-f887-4479-b0fa-f047441c3bc9"
   },
   "outputs": [
    {
     "name": "stdout",
     "output_type": "stream",
     "text": [
      "US: 809\n",
      "AUS: 731\n",
      "JAP: 588\n",
      "IN: 18\n",
      "RU: 200\n",
      "MOR: 70\n",
      "EG: 45\n"
     ]
    }
   ],
   "source": [
    "# Using the iterators lab and row, adapt the code in the for loop such that the\n",
    "# first iteration prints out \"US: 809\", the second iteration \"AUS: 731\", and so on.\n",
    "for rows, contents in cars.iterrows() :\n",
    "    print(str(rows) + \": \" + str(contents[\"cars_per_cap\"]))"
   ]
  },
  {
   "cell_type": "markdown",
   "metadata": {
    "id": "9cOyN0NbXGqC"
   },
   "source": [
    "#### **4.7.3. Add columns (1)**\n",
    "In the video, Hugo showed you how to add the length of the country names of the brics DataFrame in a new column:\n",
    "\n",
    "    for lab, row in brics.iterrows() :\n",
    "        brics.loc[lab, \"name_length\"] = len(row[\"country\"])\n",
    "\n",
    "You can do similar things on the cars DataFrame."
   ]
  },
  {
   "cell_type": "code",
   "execution_count": 22,
   "metadata": {
    "colab": {
     "base_uri": "https://localhost:8080/",
     "height": 153
    },
    "executionInfo": {
     "elapsed": 1128,
     "status": "ok",
     "timestamp": 1603287432668,
     "user": {
      "displayName": "Edu Freitas",
      "photoUrl": "https://lh3.googleusercontent.com/a-/AOh14GhWFQkwez3VBN_ew1fJcqiFBGJEY7eSIinKE6OAhw=s64",
      "userId": "00586546017962173484"
     },
     "user_tz": 180
    },
    "id": "RrXhf01VXeMF",
    "outputId": "6dac1841-2261-4a19-ffd4-2206b4a9f5a2"
   },
   "outputs": [
    {
     "name": "stdout",
     "output_type": "stream",
     "text": [
      "     cars_per_cap        country  drives_right        COUNTRY\n",
      "US            809  United States          True  UNITED STATES\n",
      "AUS           731      Australia         False      AUSTRALIA\n",
      "JAP           588          Japan         False          JAPAN\n",
      "IN             18          India         False          INDIA\n",
      "RU            200         Russia          True         RUSSIA\n",
      "MOR            70        Morocco          True        MOROCCO\n",
      "EG             45          Egypt          True          EGYPT\n"
     ]
    }
   ],
   "source": [
    "# Use a for loop to add a new column, named COUNTRY, that contains a uppercase \n",
    "# version of the country names in the \"country\" column. You can use the string \n",
    "# method upper() for this.\n",
    "for lab, row in cars.iterrows() :\n",
    "    cars.loc[lab, \"COUNTRY\"] = row[\"country\"].upper()\n",
    "print(cars)"
   ]
  },
  {
   "cell_type": "markdown",
   "metadata": {
    "id": "KoCogp2YYAJX"
   },
   "source": [
    "#### **4.7.4. Add column (2)**\n",
    "Using iterrows() to iterate over every observation of a Pandas DataFrame is easy to understand, but not very efficient. On every iteration, you're creating a new Pandas Series.\n",
    "\n",
    "If you want to add a column to a DataFrame by calling a function on another column, the iterrows() method in combination with a for loop is not the preferred way to go. Instead, you'll want to use apply().\n",
    "\n",
    "Compare the iterrows() version with the apply() version to get the same result in the brics DataFrame:\n",
    "\n",
    "    for lab, row in brics.iterrows() :\n",
    "        brics.loc[lab, \"name_length\"] = len(row[\"country\"])\n",
    "\n",
    "    brics[\"name_length\"] = brics[\"country\"].apply(len)\n",
    "    \n",
    "We can do a similar thing to call the upper() method on every name in the country column. However, upper() is a method, so we'll need a slightly different approach:"
   ]
  },
  {
   "cell_type": "code",
   "execution_count": 24,
   "metadata": {
    "colab": {
     "base_uri": "https://localhost:8080/",
     "height": 266
    },
    "executionInfo": {
     "elapsed": 943,
     "status": "ok",
     "timestamp": 1603287855242,
     "user": {
      "displayName": "Edu Freitas",
      "photoUrl": "https://lh3.googleusercontent.com/a-/AOh14GhWFQkwez3VBN_ew1fJcqiFBGJEY7eSIinKE6OAhw=s64",
      "userId": "00586546017962173484"
     },
     "user_tz": 180
    },
    "id": "kgvIKgO1Ysu_",
    "outputId": "fbed255c-2461-4ae0-f5e8-5c841fccabd5"
   },
   "outputs": [
    {
     "data": {
      "text/html": [
       "<div>\n",
       "<style scoped>\n",
       "    .dataframe tbody tr th:only-of-type {\n",
       "        vertical-align: middle;\n",
       "    }\n",
       "\n",
       "    .dataframe tbody tr th {\n",
       "        vertical-align: top;\n",
       "    }\n",
       "\n",
       "    .dataframe thead th {\n",
       "        text-align: right;\n",
       "    }\n",
       "</style>\n",
       "<table border=\"1\" class=\"dataframe\">\n",
       "  <thead>\n",
       "    <tr style=\"text-align: right;\">\n",
       "      <th></th>\n",
       "      <th>cars_per_cap</th>\n",
       "      <th>country</th>\n",
       "      <th>drives_right</th>\n",
       "      <th>COUNTRY</th>\n",
       "    </tr>\n",
       "  </thead>\n",
       "  <tbody>\n",
       "    <tr>\n",
       "      <th>US</th>\n",
       "      <td>809</td>\n",
       "      <td>United States</td>\n",
       "      <td>True</td>\n",
       "      <td>UNITED STATES</td>\n",
       "    </tr>\n",
       "    <tr>\n",
       "      <th>AUS</th>\n",
       "      <td>731</td>\n",
       "      <td>Australia</td>\n",
       "      <td>False</td>\n",
       "      <td>AUSTRALIA</td>\n",
       "    </tr>\n",
       "    <tr>\n",
       "      <th>JAP</th>\n",
       "      <td>588</td>\n",
       "      <td>Japan</td>\n",
       "      <td>False</td>\n",
       "      <td>JAPAN</td>\n",
       "    </tr>\n",
       "    <tr>\n",
       "      <th>IN</th>\n",
       "      <td>18</td>\n",
       "      <td>India</td>\n",
       "      <td>False</td>\n",
       "      <td>INDIA</td>\n",
       "    </tr>\n",
       "    <tr>\n",
       "      <th>RU</th>\n",
       "      <td>200</td>\n",
       "      <td>Russia</td>\n",
       "      <td>True</td>\n",
       "      <td>RUSSIA</td>\n",
       "    </tr>\n",
       "    <tr>\n",
       "      <th>MOR</th>\n",
       "      <td>70</td>\n",
       "      <td>Morocco</td>\n",
       "      <td>True</td>\n",
       "      <td>MOROCCO</td>\n",
       "    </tr>\n",
       "    <tr>\n",
       "      <th>EG</th>\n",
       "      <td>45</td>\n",
       "      <td>Egypt</td>\n",
       "      <td>True</td>\n",
       "      <td>EGYPT</td>\n",
       "    </tr>\n",
       "  </tbody>\n",
       "</table>\n",
       "</div>"
      ],
      "text/plain": [
       "     cars_per_cap        country  drives_right        COUNTRY\n",
       "US            809  United States          True  UNITED STATES\n",
       "AUS           731      Australia         False      AUSTRALIA\n",
       "JAP           588          Japan         False          JAPAN\n",
       "IN             18          India         False          INDIA\n",
       "RU            200         Russia          True         RUSSIA\n",
       "MOR            70        Morocco          True        MOROCCO\n",
       "EG             45          Egypt          True          EGYPT"
      ]
     },
     "execution_count": 24,
     "metadata": {
      "tags": []
     },
     "output_type": "execute_result"
    }
   ],
   "source": [
    "# Replace the for loop with a one-liner that uses .apply(str.upper). The call \n",
    "# should give the same result: a column COUNTRY should be added to cars, \n",
    "# containing an uppercase version of the country names.\n",
    "cars[\"COUNTRY\"] = cars[\"country\"].apply(str.upper)\n",
    "cars"
   ]
  },
  {
   "cell_type": "code",
   "execution_count": null,
   "metadata": {
    "id": "y_aHuD8pZynE"
   },
   "outputs": [],
   "source": []
  }
 ],
 "metadata": {
  "colab": {
   "authorship_tag": "ABX9TyPrnERB7uCvB+9XhDP6m+MQ",
   "collapsed_sections": [],
   "name": "Loops.ipynb",
   "provenance": [],
   "toc_visible": true
  },
  "kernelspec": {
   "display_name": "Python 3",
   "language": "python",
   "name": "python3"
  },
  "language_info": {
   "codemirror_mode": {
    "name": "ipython",
    "version": 3
   },
   "file_extension": ".py",
   "mimetype": "text/x-python",
   "name": "python",
   "nbconvert_exporter": "python",
   "pygments_lexer": "ipython3",
   "version": "3.8.8"
  }
 },
 "nbformat": 4,
 "nbformat_minor": 1
}
